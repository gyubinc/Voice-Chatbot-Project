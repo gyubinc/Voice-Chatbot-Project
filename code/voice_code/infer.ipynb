{
  "cells": [
    {
      "attachments": {},
      "cell_type": "markdown",
      "metadata": {
        "id": "4nnHcDyOyAHM"
      },
      "source": [
        "# SCE-TTS: 음성합성 데모\n",
        "\n",
        "이 문서는 SCE-TTS 프로젝트의 음성 합성 데모입니다.\n",
        "\n",
        "이 데모에 대한 더 자세한 정보는 아래 링크에서 확인하실 수 있습니다.  \n",
        "https://sce-tts.github.io/"
      ]
    },
    {
      "attachments": {},
      "cell_type": "markdown",
      "metadata": {
        "id": "AvxXfBluyZvb"
      },
      "source": [
        "## 1. 구글 드라이브 마운트\n",
        "\n",
        "음성합성을 위해 학습한 모델이 있는 구글 드라이브를 마운트합니다.  \n",
        "마운트할 구글 드라이브 내에 다음 파일들이 존재하는지 꼭 확인해주세요.\n",
        "\n",
        "- `/Colab Notebooks/data/glowtts-v2/model_file.pth.tar`\n",
        "- `/Colab Notebooks/data/glowtts-v2/config.json`\n",
        "- `/Colab Notebooks/data/hifigan-v2/model_file.pth.tar`\n",
        "- `/Colab Notebooks/data/hifigan-v2/config.json`\n",
        "\n",
        "\n",
        "(존재하지 않는다면, [glowtts-v2.zip](https://drive.google.com/file/d/1DMKLdfZ_gzc_z0qDod6_G8fEXj0zCHvC/view?usp=sharing), [hifigan-v2.zip](https://drive.google.com/file/d/1vRxp1RH-U7gSzWgyxnKY4h_7pB3tjPmU/view?usp=sharing)을 내려받아 준비해주세요.)\n",
        "\n",
        "만약 아래에 `Enter your authorization code:`과 같은 메시지가 출력될 경우,  \n",
        "같이 출력된 링크에 접속하여, 마운트할 구글 계정을 선택하신 후, 인증 코드를 복사하여 입력해주세요."
      ]
    },
    {
      "attachments": {},
      "cell_type": "markdown",
      "metadata": {
        "id": "8erClGSnzwge"
      },
      "source": [
        "## 2. 필수 라이브러리 및 함수 불러오기\n",
        "\n",
        "실행에 필요한 라이브러리 및 함수를 불러옵니다.\n",
        "\n",
        "이 과정은 약 10분 정도 소요될 수 있습니다."
      ]
    },
    {
      "cell_type": "code",
      "execution_count": 1,
      "metadata": {
        "id": "jYCym6hXge2_"
      },
      "outputs": [],
      "source": [
        "import os\n",
        "import sys\n",
        "from pathlib import Path"
      ]
    },
    {
      "cell_type": "code",
      "execution_count": null,
      "metadata": {},
      "outputs": [],
      "source": []
    },
    {
      "cell_type": "code",
      "execution_count": 2,
      "metadata": {
        "colab": {
          "base_uri": "https://localhost:8080/"
        },
        "id": "PvjyOQjNQeL9",
        "outputId": "757207c2-61a8-4e0a-e673-f6c2b71d41db"
      },
      "outputs": [
        {
          "name": "stdout",
          "output_type": "stream",
          "text": [
            "Requirement already satisfied: folium==0.2.1 in c:\\users\\yeppi\\miniconda3\\envs\\gyubin\\lib\\site-packages (0.2.1)\n",
            "Requirement already satisfied: Jinja2 in c:\\users\\yeppi\\miniconda3\\envs\\gyubin\\lib\\site-packages (from folium==0.2.1) (3.1.2)\n",
            "Requirement already satisfied: MarkupSafe>=2.0 in c:\\users\\yeppi\\miniconda3\\envs\\gyubin\\lib\\site-packages (from Jinja2->folium==0.2.1) (2.1.1)\n",
            "Note: you may need to restart the kernel to use updated packages.\n"
          ]
        }
      ],
      "source": [
        "pip install folium==0.2.1"
      ]
    },
    {
      "cell_type": "code",
      "execution_count": 3,
      "metadata": {
        "colab": {
          "base_uri": "https://localhost:8080/"
        },
        "id": "1-ZEEcdFQhjR",
        "outputId": "904d607a-7242-4057-f968-67f01d592236"
      },
      "outputs": [
        {
          "name": "stdout",
          "output_type": "stream",
          "text": [
            "Requirement already satisfied: imgaug==0.2.5 in c:\\users\\yeppi\\miniconda3\\envs\\gyubin\\lib\\site-packages (0.2.5)\n",
            "Requirement already satisfied: scikit-image>=0.11.0 in c:\\users\\yeppi\\miniconda3\\envs\\gyubin\\lib\\site-packages (from imgaug==0.2.5) (0.19.3)\n",
            "Requirement already satisfied: scipy in c:\\users\\yeppi\\miniconda3\\envs\\gyubin\\lib\\site-packages (from imgaug==0.2.5) (1.10.0)\n",
            "Requirement already satisfied: numpy>=1.7.0 in c:\\users\\yeppi\\miniconda3\\envs\\gyubin\\lib\\site-packages (from imgaug==0.2.5) (1.26.4)\n",
            "Requirement already satisfied: six in c:\\users\\yeppi\\miniconda3\\envs\\gyubin\\lib\\site-packages (from imgaug==0.2.5) (1.16.0)\n",
            "Requirement already satisfied: PyWavelets>=1.1.1 in c:\\users\\yeppi\\miniconda3\\envs\\gyubin\\lib\\site-packages (from scikit-image>=0.11.0->imgaug==0.2.5) (1.4.1)\n",
            "Requirement already satisfied: packaging>=20.0 in c:\\users\\yeppi\\miniconda3\\envs\\gyubin\\lib\\site-packages (from scikit-image>=0.11.0->imgaug==0.2.5) (22.0)\n",
            "Requirement already satisfied: imageio>=2.4.1 in c:\\users\\yeppi\\miniconda3\\envs\\gyubin\\lib\\site-packages (from scikit-image>=0.11.0->imgaug==0.2.5) (2.26.0)\n",
            "Requirement already satisfied: networkx>=2.2 in c:\\users\\yeppi\\miniconda3\\envs\\gyubin\\lib\\site-packages (from scikit-image>=0.11.0->imgaug==0.2.5) (2.8.4)\n",
            "Requirement already satisfied: tifffile>=2019.7.26 in c:\\users\\yeppi\\miniconda3\\envs\\gyubin\\lib\\site-packages (from scikit-image>=0.11.0->imgaug==0.2.5) (2021.7.2)\n",
            "Requirement already satisfied: pillow!=7.1.0,!=7.1.1,!=8.3.0,>=6.1.0 in c:\\users\\yeppi\\miniconda3\\envs\\gyubin\\lib\\site-packages (from scikit-image>=0.11.0->imgaug==0.2.5) (9.4.0)\n",
            "Note: you may need to restart the kernel to use updated packages.\n"
          ]
        }
      ],
      "source": [
        "pip install imgaug==0.2.5"
      ]
    },
    {
      "cell_type": "code",
      "execution_count": 4,
      "metadata": {
        "colab": {
          "base_uri": "https://localhost:8080/"
        },
        "id": "JwMnuWBNUW_h",
        "outputId": "c51bb4d6-d3cc-49e4-855d-389ae708d67c"
      },
      "outputs": [
        {
          "name": "stdout",
          "output_type": "stream",
          "text": [
            "Requirement already satisfied: librosa==0.8.1 in c:\\users\\yeppi\\miniconda3\\envs\\gyubin\\lib\\site-packages (0.8.1)\n",
            "Requirement already satisfied: soundfile>=0.10.2 in c:\\users\\yeppi\\miniconda3\\envs\\gyubin\\lib\\site-packages (from librosa==0.8.1) (0.12.1)\n",
            "Requirement already satisfied: resampy>=0.2.2 in c:\\users\\yeppi\\miniconda3\\envs\\gyubin\\lib\\site-packages (from librosa==0.8.1) (0.4.3)\n",
            "Requirement already satisfied: scikit-learn!=0.19.0,>=0.14.0 in c:\\users\\yeppi\\miniconda3\\envs\\gyubin\\lib\\site-packages (from librosa==0.8.1) (1.3.0)\n",
            "Requirement already satisfied: audioread>=2.0.0 in c:\\users\\yeppi\\miniconda3\\envs\\gyubin\\lib\\site-packages (from librosa==0.8.1) (3.0.1)\n",
            "Requirement already satisfied: scipy>=1.0.0 in c:\\users\\yeppi\\miniconda3\\envs\\gyubin\\lib\\site-packages (from librosa==0.8.1) (1.10.0)\n",
            "Requirement already satisfied: numpy>=1.15.0 in c:\\users\\yeppi\\miniconda3\\envs\\gyubin\\lib\\site-packages (from librosa==0.8.1) (1.26.4)\n",
            "Requirement already satisfied: packaging>=20.0 in c:\\users\\yeppi\\miniconda3\\envs\\gyubin\\lib\\site-packages (from librosa==0.8.1) (22.0)\n",
            "Requirement already satisfied: decorator>=3.0.0 in c:\\users\\yeppi\\miniconda3\\envs\\gyubin\\lib\\site-packages (from librosa==0.8.1) (5.1.1)\n",
            "Requirement already satisfied: pooch>=1.0 in c:\\users\\yeppi\\miniconda3\\envs\\gyubin\\lib\\site-packages (from librosa==0.8.1) (1.4.0)\n",
            "Requirement already satisfied: numba>=0.43.0 in c:\\users\\yeppi\\miniconda3\\envs\\gyubin\\lib\\site-packages (from librosa==0.8.1) (0.59.1)\n",
            "Requirement already satisfied: joblib>=0.14 in c:\\users\\yeppi\\miniconda3\\envs\\gyubin\\lib\\site-packages (from librosa==0.8.1) (1.3.1)\n",
            "Requirement already satisfied: llvmlite<0.43,>=0.42.0dev0 in c:\\users\\yeppi\\miniconda3\\envs\\gyubin\\lib\\site-packages (from numba>=0.43.0->librosa==0.8.1) (0.42.0)\n",
            "Requirement already satisfied: requests in c:\\users\\yeppi\\miniconda3\\envs\\gyubin\\lib\\site-packages (from pooch>=1.0->librosa==0.8.1) (2.28.1)\n",
            "Requirement already satisfied: appdirs in c:\\users\\yeppi\\miniconda3\\envs\\gyubin\\lib\\site-packages (from pooch>=1.0->librosa==0.8.1) (1.4.4)\n",
            "Requirement already satisfied: threadpoolctl>=2.0.0 in c:\\users\\yeppi\\miniconda3\\envs\\gyubin\\lib\\site-packages (from scikit-learn!=0.19.0,>=0.14.0->librosa==0.8.1) (3.1.0)\n",
            "Requirement already satisfied: cffi>=1.0 in c:\\users\\yeppi\\miniconda3\\envs\\gyubin\\lib\\site-packages (from soundfile>=0.10.2->librosa==0.8.1) (1.15.1)\n",
            "Requirement already satisfied: pycparser in c:\\users\\yeppi\\miniconda3\\envs\\gyubin\\lib\\site-packages (from cffi>=1.0->soundfile>=0.10.2->librosa==0.8.1) (2.21)\n",
            "Requirement already satisfied: charset-normalizer<3,>=2 in c:\\users\\yeppi\\miniconda3\\envs\\gyubin\\lib\\site-packages (from requests->pooch>=1.0->librosa==0.8.1) (2.0.4)\n",
            "Requirement already satisfied: urllib3<1.27,>=1.21.1 in c:\\users\\yeppi\\miniconda3\\envs\\gyubin\\lib\\site-packages (from requests->pooch>=1.0->librosa==0.8.1) (1.26.14)\n",
            "Requirement already satisfied: certifi>=2017.4.17 in c:\\users\\yeppi\\miniconda3\\envs\\gyubin\\lib\\site-packages (from requests->pooch>=1.0->librosa==0.8.1) (2022.12.7)\n",
            "Requirement already satisfied: idna<4,>=2.5 in c:\\users\\yeppi\\miniconda3\\envs\\gyubin\\lib\\site-packages (from requests->pooch>=1.0->librosa==0.8.1) (2.10)\n",
            "Note: you may need to restart the kernel to use updated packages.\n"
          ]
        }
      ],
      "source": [
        "pip install librosa==0.8.1"
      ]
    },
    {
      "cell_type": "code",
      "execution_count": 5,
      "metadata": {},
      "outputs": [
        {
          "name": "stdout",
          "output_type": "stream",
          "text": [
            "c:\\규빈\\KOREA\\KUBIG\\23-1 침착맨 음성\n"
          ]
        }
      ],
      "source": [
        "import os\n",
        "os.chdir('../../../')\n",
        "current_dir = os.getcwd()\n",
        "print(current_dir)"
      ]
    },
    {
      "cell_type": "code",
      "execution_count": 6,
      "metadata": {
        "colab": {
          "base_uri": "https://localhost:8080/"
        },
        "id": "JkWG-L13gReB",
        "outputId": "87d78ebc-a87a-4d53-a0da-62be74d37aba"
      },
      "outputs": [
        {
          "name": "stderr",
          "output_type": "stream",
          "text": [
            "fatal: destination path 'TTS' already exists and is not an empty directory.\n",
            "fatal: destination path 'g2pK' already exists and is not an empty directory.\n",
            "  error: subprocess-exited-with-error\n",
            "  \n",
            "  × pip subprocess to install build dependencies did not run successfully.\n",
            "  │ exit code: 1\n",
            "  ╰─> [119 lines of output]\n",
            "      Collecting setuptools\n",
            "        Using cached setuptools-69.2.0-py3-none-any.whl (821 kB)\n",
            "      Collecting wheel\n",
            "        Using cached wheel-0.43.0-py3-none-any.whl (65 kB)\n",
            "      Collecting Cython\n",
            "        Using cached Cython-3.0.10-cp310-cp310-win_amd64.whl (2.8 MB)\n",
            "      Collecting numpy==1.18.5\n",
            "        Using cached numpy-1.18.5.zip (5.4 MB)\n",
            "        Installing build dependencies: started\n",
            "        Installing build dependencies: finished with status 'done'\n",
            "        Getting requirements to build wheel: started\n",
            "        Getting requirements to build wheel: finished with status 'done'\n",
            "        Preparing metadata (pyproject.toml): started\n",
            "        Preparing metadata (pyproject.toml): finished with status 'error'\n",
            "        error: subprocess-exited-with-error\n",
            "      \n",
            "        × Preparing metadata (pyproject.toml) did not run successfully.\n",
            "        │ exit code: 1\n",
            "        ╰─> [90 lines of output]\n",
            "            Running from numpy source directory.\n",
            "            <string>:461: UserWarning: Unrecognized setuptools command, proceeding with generating Cython sources and expanding templates\n",
            "            Cythonizing sources\n",
            "            Processing numpy/random\\_bounded_integers.pxd.in\n",
            "            Processing numpy/random\\mtrand.pyx\n",
            "            C:\\Users\\yeppi\\AppData\\Local\\Temp\\pip-install-umgg6a2u\\numpy_c409e4ce4a8d4759a4fec619f38553a0\\tools\\cythonize.py:75: DeprecationWarning: distutils Version classes are deprecated. Use packaging.version instead.\n",
            "              required_version = LooseVersion('0.29.14')\n",
            "            C:\\Users\\yeppi\\AppData\\Local\\Temp\\pip-install-umgg6a2u\\numpy_c409e4ce4a8d4759a4fec619f38553a0\\tools\\cythonize.py:77: DeprecationWarning: distutils Version classes are deprecated. Use packaging.version instead.\n",
            "              if LooseVersion(cython_version) < required_version:\n",
            "            Processing numpy/random\\_bit_generator.pyx\n",
            "            Processing numpy/random\\_bounded_integers.pyx.in\n",
            "            Processing numpy/random\\_common.pyx\n",
            "            performance hint: _common.pyx:261:19: Exception check after calling 'random_func' will always require the GIL to be acquired. Declare 'random_func' as 'noexcept' if you control the definition and you're sure you don't want the function to raise exceptions.\n",
            "            performance hint: _common.pyx:285:19: Exception check after calling 'random_func' will always require the GIL to be acquired. Declare 'random_func' as 'noexcept' if you control the definition and you're sure you don't want the function to raise exceptions.\n",
            "            performance hint: _common.pyx:308:50: Exception check after calling 'random_func' will always require the GIL to be acquired. Declare 'random_func' as 'noexcept' if you control the definition and you're sure you don't want the function to raise exceptions.\n",
            "            performance hint: _common.pyx:411:31: Exception check after calling 'f' will always require the GIL to be acquired. Declare 'f' as 'noexcept' if you control the definition and you're sure you don't want the function to raise exceptions.\n",
            "            performance hint: _common.pyx:448:31: Exception check after calling 'f' will always require the GIL to be acquired. Declare 'f' as 'noexcept' if you control the definition and you're sure you don't want the function to raise exceptions.\n",
            "            performance hint: _common.pyx:490:31: Exception check after calling 'f' will always require the GIL to be acquired. Declare 'f' as 'noexcept' if you control the definition and you're sure you don't want the function to raise exceptions.\n",
            "            performance hint: _common.pyx:573:36: Exception check after calling 'f0' will always require the GIL to be acquired. Declare 'f0' as 'noexcept' if you control the definition and you're sure you don't want the function to raise exceptions.\n",
            "            performance hint: _common.pyx:577:36: Exception check after calling 'f1' will always require the GIL to be acquired. Declare 'f1' as 'noexcept' if you control the definition and you're sure you don't want the function to raise exceptions.\n",
            "            performance hint: _common.pyx:581:36: Exception check after calling 'f2' will always require the GIL to be acquired. Declare 'f2' as 'noexcept' if you control the definition and you're sure you don't want the function to raise exceptions.\n",
            "            performance hint: _common.pyx:585:36: Exception check after calling 'f3' will always require the GIL to be acquired. Declare 'f3' as 'noexcept' if you control the definition and you're sure you don't want the function to raise exceptions.\n",
            "            performance hint: _common.pyx:617:31: Exception check after calling 'f' will always require the GIL to be acquired. Declare 'f' as 'noexcept' if you control the definition and you're sure you don't want the function to raise exceptions.\n",
            "            performance hint: _common.pyx:652:31: Exception check after calling 'f' will always require the GIL to be acquired. Declare 'f' as 'noexcept' if you control the definition and you're sure you don't want the function to raise exceptions.\n",
            "            performance hint: _common.pyx:687:63: Exception check after calling 'f' will always require the GIL to be acquired. Declare 'f' as 'noexcept' if you control the definition and you're sure you don't want the function to raise exceptions.\n",
            "            performance hint: _common.pyx:727:31: Exception check after calling 'f' will always require the GIL to be acquired. Declare 'f' as 'noexcept' if you control the definition and you're sure you don't want the function to raise exceptions.\n",
            "            performance hint: _common.pyx:756:31: Exception check after calling 'f' will always require the GIL to be acquired. Declare 'f' as 'noexcept' if you control the definition and you're sure you don't want the function to raise exceptions.\n",
            "            performance hint: _common.pyx:874:40: Exception check after calling 'f0' will always require the GIL to be acquired. Declare 'f0' as 'noexcept' if you control the definition and you're sure you don't want the function to raise exceptions.\n",
            "            performance hint: _common.pyx:878:40: Exception check after calling 'fd' will always require the GIL to be acquired. Declare 'fd' as 'noexcept' if you control the definition and you're sure you don't want the function to raise exceptions.\n",
            "            performance hint: _common.pyx:882:41: Exception check after calling 'fdd' will always require the GIL to be acquired. Declare 'fdd' as 'noexcept' if you control the definition and you're sure you don't want the function to raise exceptions.\n",
            "            performance hint: _common.pyx:887:40: Exception check after calling 'fi' will always require the GIL to be acquired. Declare 'fi' as 'noexcept' if you control the definition and you're sure you don't want the function to raise exceptions.\n",
            "            performance hint: _common.pyx:891:41: Exception check after calling 'fdi' will always require the GIL to be acquired. Declare 'fdi' as 'noexcept' if you control the definition and you're sure you don't want the function to raise exceptions.\n",
            "            performance hint: _common.pyx:895:38: Exception check after calling 'fiii' will always require the GIL to be acquired. Declare 'fiii' as 'noexcept' if you control the definition and you're sure you don't want the function to raise exceptions.\n",
            "            performance hint: _common.pyx:930:31: Exception check after calling 'f' will always require the GIL to be acquired. Declare 'f' as 'noexcept' if you control the definition and you're sure you don't want the function to raise exceptions.\n",
            "            performance hint: _common.pyx:972:32: Exception check after calling 'f1' will always require the GIL to be acquired. Declare 'f1' as 'noexcept' if you control the definition and you're sure you don't want the function to raise exceptions.\n",
            "            Processing numpy/random\\_generator.pyx\n",
            "            performance hint: _generator.pyx:811:41: Exception check after calling '_shuffle_int' will always require the GIL to be acquired.\n",
            "            Possible solutions:\n",
            "                1. Declare '_shuffle_int' as 'noexcept' if you control the definition and you're sure you don't want the function to raise exceptions.\n",
            "                2. Use an 'int' return type on '_shuffle_int' to allow an error code to be returned.\n",
            "            performance hint: _generator.pyx:840:45: Exception check after calling '_shuffle_int' will always require the GIL to be acquired.\n",
            "            Possible solutions:\n",
            "                1. Declare '_shuffle_int' as 'noexcept' if you control the definition and you're sure you don't want the function to raise exceptions.\n",
            "                2. Use an 'int' return type on '_shuffle_int' to allow an error code to be returned.\n",
            "            Processing numpy/random\\_mt19937.pyx\n",
            "      \n",
            "            Error compiling Cython file:\n",
            "            ------------------------------------------------------------\n",
            "            ...\n",
            "                    for i in range(1, RK_STATE_LEN):\n",
            "                        self.rng_state.key[i] = val[i]\n",
            "                    self.rng_state.pos = i\n",
            "      \n",
            "                    self._bitgen.state = &self.rng_state\n",
            "                    self._bitgen.next_uint64 = &mt19937_uint64\n",
            "                                               ^\n",
            "            ------------------------------------------------------------\n",
            "      \n",
            "            _mt19937.pyx:138:35: Cannot assign type 'uint64_t (*)(void *) except? -1 nogil' to 'uint64_t (*)(void *) noexcept nogil'. Exception values are incompatible. Suggest adding 'noexcept' to the type of the value being assigned.\n",
            "            Traceback (most recent call last):\n",
            "              File \"C:\\Users\\yeppi\\AppData\\Local\\Temp\\pip-install-umgg6a2u\\numpy_c409e4ce4a8d4759a4fec619f38553a0\\tools\\cythonize.py\", line 238, in <module>\n",
            "                main()\n",
            "              File \"C:\\Users\\yeppi\\AppData\\Local\\Temp\\pip-install-umgg6a2u\\numpy_c409e4ce4a8d4759a4fec619f38553a0\\tools\\cythonize.py\", line 234, in main\n",
            "                find_process_files(root_dir)\n",
            "              File \"C:\\Users\\yeppi\\AppData\\Local\\Temp\\pip-install-umgg6a2u\\numpy_c409e4ce4a8d4759a4fec619f38553a0\\tools\\cythonize.py\", line 225, in find_process_files\n",
            "                process(root_dir, fromfile, tofile, function, hash_db)\n",
            "              File \"C:\\Users\\yeppi\\AppData\\Local\\Temp\\pip-install-umgg6a2u\\numpy_c409e4ce4a8d4759a4fec619f38553a0\\tools\\cythonize.py\", line 191, in process\n",
            "                processor_function(fromfile, tofile)\n",
            "              File \"C:\\Users\\yeppi\\AppData\\Local\\Temp\\pip-install-umgg6a2u\\numpy_c409e4ce4a8d4759a4fec619f38553a0\\tools\\cythonize.py\", line 80, in process_pyx\n",
            "                subprocess.check_call(\n",
            "              File \"C:\\Users\\yeppi\\miniconda3\\envs\\gyubin\\lib\\subprocess.py\", line 369, in check_call\n",
            "                raise CalledProcessError(retcode, cmd)\n",
            "            subprocess.CalledProcessError: Command '['C:\\\\Users\\\\yeppi\\\\miniconda3\\\\envs\\\\gyubin\\\\python.exe', '-m', 'cython', '-3', '--fast-fail', '-o', '_mt19937.c', '_mt19937.pyx']' returned non-zero exit status 1.\n",
            "            Traceback (most recent call last):\n",
            "              File \"C:\\Users\\yeppi\\miniconda3\\envs\\gyubin\\Lib\\site-packages\\pip\\_vendor\\pep517\\in_process\\_in_process.py\", line 351, in <module>\n",
            "                main()\n",
            "              File \"C:\\Users\\yeppi\\miniconda3\\envs\\gyubin\\Lib\\site-packages\\pip\\_vendor\\pep517\\in_process\\_in_process.py\", line 333, in main\n",
            "                json_out['return_val'] = hook(**hook_input['kwargs'])\n",
            "              File \"C:\\Users\\yeppi\\miniconda3\\envs\\gyubin\\Lib\\site-packages\\pip\\_vendor\\pep517\\in_process\\_in_process.py\", line 152, in prepare_metadata_for_build_wheel\n",
            "                return hook(metadata_directory, config_settings)\n",
            "              File \"C:\\Users\\yeppi\\AppData\\Local\\Temp\\pip-build-env-oeacux8y\\overlay\\Lib\\site-packages\\setuptools\\build_meta.py\", line 366, in prepare_metadata_for_build_wheel\n",
            "                self.run_setup()\n",
            "              File \"C:\\Users\\yeppi\\AppData\\Local\\Temp\\pip-build-env-oeacux8y\\overlay\\Lib\\site-packages\\setuptools\\build_meta.py\", line 487, in run_setup\n",
            "                super().run_setup(setup_script=setup_script)\n",
            "              File \"C:\\Users\\yeppi\\AppData\\Local\\Temp\\pip-build-env-oeacux8y\\overlay\\Lib\\site-packages\\setuptools\\build_meta.py\", line 311, in run_setup\n",
            "                exec(code, locals())\n",
            "              File \"<string>\", line 488, in <module>\n",
            "              File \"<string>\", line 469, in setup_package\n",
            "              File \"<string>\", line 275, in generate_cython\n",
            "            RuntimeError: Running cythonize failed!\n",
            "            [end of output]\n",
            "      \n",
            "        note: This error originates from a subprocess, and is likely not a problem with pip.\n",
            "      error: metadata-generation-failed\n",
            "      \n",
            "      × Encountered error while generating package metadata.\n",
            "      ╰─> See above for output.\n",
            "      \n",
            "      note: This is an issue with the package mentioned above, not pip.\n",
            "      hint: See above for details.\n",
            "      [end of output]\n",
            "  \n",
            "  note: This error originates from a subprocess, and is likely not a problem with pip.\n",
            "error: subprocess-exited-with-error\n",
            "\n",
            "× pip subprocess to install build dependencies did not run successfully.\n",
            "│ exit code: 1\n",
            "╰─> See above for output.\n",
            "\n",
            "note: This error originates from a subprocess, and is likely not a problem with pip.\n"
          ]
        }
      ],
      "source": [
        "os.chdir('content')\n",
        "!git clone --depth 1 https://github.com/sce-tts/TTS.git -b sce-tts\n",
        "!git clone --depth 1 https://github.com/sce-tts/g2pK.git\n",
        "os.chdir('TTS')\n",
        "!pip install -q --no-cache-dir -e .\n",
        "#%cd /content/g2pK\n",
        "os.chdir('../g2pK')\n",
        "!pip install -q --no-cache-dir \"konlpy\" \"jamo\" \"nltk\" \"python-mecab-ko\"\n",
        "!pip install -q --no-cache-dir -e ."
      ]
    },
    {
      "cell_type": "code",
      "execution_count": 7,
      "metadata": {},
      "outputs": [
        {
          "data": {
            "text/plain": [
              "'c:\\\\규빈\\\\KOREA\\\\KUBIG\\\\23-1 침착맨 음성\\\\content\\\\g2pK'"
            ]
          },
          "execution_count": 7,
          "metadata": {},
          "output_type": "execute_result"
        }
      ],
      "source": [
        "pwd"
      ]
    },
    {
      "cell_type": "code",
      "execution_count": 3,
      "metadata": {
        "colab": {
          "base_uri": "https://localhost:8080/"
        },
        "id": "FUD8SfIxSY8j",
        "outputId": "0dadcfad-f4e6-49bf-a53b-922760800e57"
      },
      "outputs": [
        {
          "ename": "Exception",
          "evalue": "Install MeCab in order to use it: http://konlpy.org/en/latest/install/",
          "output_type": "error",
          "traceback": [
            "\u001b[1;31m---------------------------------------------------------------------------\u001b[0m",
            "\u001b[1;31mNameError\u001b[0m                                 Traceback (most recent call last)",
            "File \u001b[1;32mc:\\Users\\yeppi\\miniconda3\\envs\\gyubin\\lib\\site-packages\\konlpy\\tag\\_mecab.py:77\u001b[0m, in \u001b[0;36mMecab.__init__\u001b[1;34m(self, dicpath)\u001b[0m\n\u001b[0;32m     76\u001b[0m \u001b[38;5;28;01mtry\u001b[39;00m:\n\u001b[1;32m---> 77\u001b[0m     \u001b[38;5;28mself\u001b[39m\u001b[38;5;241m.\u001b[39mtagger \u001b[38;5;241m=\u001b[39m \u001b[43mTagger\u001b[49m(\u001b[38;5;124m'\u001b[39m\u001b[38;5;124m-d \u001b[39m\u001b[38;5;132;01m%s\u001b[39;00m\u001b[38;5;124m'\u001b[39m \u001b[38;5;241m%\u001b[39m dicpath)\n\u001b[0;32m     78\u001b[0m     \u001b[38;5;28mself\u001b[39m\u001b[38;5;241m.\u001b[39mtagset \u001b[38;5;241m=\u001b[39m utils\u001b[38;5;241m.\u001b[39mread_json(\u001b[38;5;124m'\u001b[39m\u001b[38;5;132;01m%s\u001b[39;00m\u001b[38;5;124m/data/tagset/mecab.json\u001b[39m\u001b[38;5;124m'\u001b[39m \u001b[38;5;241m%\u001b[39m utils\u001b[38;5;241m.\u001b[39minstallpath)\n",
            "\u001b[1;31mNameError\u001b[0m: name 'Tagger' is not defined",
            "\nDuring handling of the above exception, another exception occurred:\n",
            "\u001b[1;31mException\u001b[0m                                 Traceback (most recent call last)",
            "Cell \u001b[1;32mIn[3], line 3\u001b[0m\n\u001b[0;32m      1\u001b[0m \u001b[38;5;66;03m#%cd /content/g2pK\u001b[39;00m\n\u001b[0;32m      2\u001b[0m \u001b[38;5;28;01mimport\u001b[39;00m \u001b[38;5;21;01mg2pk\u001b[39;00m\n\u001b[1;32m----> 3\u001b[0m g2p \u001b[38;5;241m=\u001b[39m \u001b[43mg2pk\u001b[49m\u001b[38;5;241;43m.\u001b[39;49m\u001b[43mG2p\u001b[49m\u001b[43m(\u001b[49m\u001b[43m)\u001b[49m\n",
            "File \u001b[1;32mc:\\규빈\\korea\\kubig\\23-1 침착맨 음성\\content\\g2pk\\g2pk\\g2pk.py:27\u001b[0m, in \u001b[0;36mG2p.__init__\u001b[1;34m(self)\u001b[0m\n\u001b[0;32m     26\u001b[0m \u001b[38;5;28;01mdef\u001b[39;00m \u001b[38;5;21m__init__\u001b[39m(\u001b[38;5;28mself\u001b[39m):\n\u001b[1;32m---> 27\u001b[0m     \u001b[38;5;28mself\u001b[39m\u001b[38;5;241m.\u001b[39mmecab \u001b[38;5;241m=\u001b[39m \u001b[38;5;28;43mself\u001b[39;49m\u001b[38;5;241;43m.\u001b[39;49m\u001b[43mget_mecab\u001b[49m\u001b[43m(\u001b[49m\u001b[43m)\u001b[49m\n\u001b[0;32m     28\u001b[0m     \u001b[38;5;28mself\u001b[39m\u001b[38;5;241m.\u001b[39mtable \u001b[38;5;241m=\u001b[39m parse_table()\n\u001b[0;32m     30\u001b[0m     \u001b[38;5;28mself\u001b[39m\u001b[38;5;241m.\u001b[39mcmu \u001b[38;5;241m=\u001b[39m cmudict\u001b[38;5;241m.\u001b[39mdict() \u001b[38;5;66;03m# for English\u001b[39;00m\n",
            "File \u001b[1;32mc:\\규빈\\korea\\kubig\\23-1 침착맨 음성\\content\\g2pk\\g2pk\\g2pk.py:39\u001b[0m, in \u001b[0;36mG2p.get_mecab\u001b[1;34m(self)\u001b[0m\n\u001b[0;32m     37\u001b[0m     \u001b[38;5;28;01mfrom\u001b[39;00m \u001b[38;5;21;01mkonlpy\u001b[39;00m\u001b[38;5;21;01m.\u001b[39;00m\u001b[38;5;21;01mtag\u001b[39;00m \u001b[38;5;28;01mimport\u001b[39;00m Mecab\n\u001b[0;32m     38\u001b[0m     mecab_ko_dic_path \u001b[38;5;241m=\u001b[39m os\u001b[38;5;241m.\u001b[39menviron[\u001b[38;5;124m'\u001b[39m\u001b[38;5;124mMECAB_KO_DIC_PATH\u001b[39m\u001b[38;5;124m'\u001b[39m] \u001b[38;5;28;01mif\u001b[39;00m \u001b[38;5;124m'\u001b[39m\u001b[38;5;124mMECAB_KO_DIC_PATH\u001b[39m\u001b[38;5;124m'\u001b[39m \u001b[38;5;129;01min\u001b[39;00m os\u001b[38;5;241m.\u001b[39menviron \u001b[38;5;28;01melse\u001b[39;00m \u001b[38;5;124mr\u001b[39m\u001b[38;5;124m\"\u001b[39m\u001b[38;5;124mC:\u001b[39m\u001b[38;5;124m\\\u001b[39m\u001b[38;5;124mmecab\u001b[39m\u001b[38;5;124m\\\u001b[39m\u001b[38;5;124mmecab-ko-dic\u001b[39m\u001b[38;5;124m\"\u001b[39m\n\u001b[1;32m---> 39\u001b[0m     \u001b[38;5;28;01mreturn\u001b[39;00m \u001b[43mMecab\u001b[49m\u001b[43m(\u001b[49m\u001b[43mdicpath\u001b[49m\u001b[38;5;241;43m=\u001b[39;49m\u001b[43mmecab_ko_dic_path\u001b[49m\u001b[43m)\u001b[49m\n\u001b[0;32m     40\u001b[0m \u001b[38;5;28;01melse\u001b[39;00m:\n\u001b[0;32m     41\u001b[0m     \u001b[38;5;28;01mimport\u001b[39;00m \u001b[38;5;21;01mmecab\u001b[39;00m\n",
            "File \u001b[1;32mc:\\Users\\yeppi\\miniconda3\\envs\\gyubin\\lib\\site-packages\\konlpy\\tag\\_mecab.py:82\u001b[0m, in \u001b[0;36mMecab.__init__\u001b[1;34m(self, dicpath)\u001b[0m\n\u001b[0;32m     80\u001b[0m     \u001b[38;5;28;01mraise\u001b[39;00m \u001b[38;5;167;01mException\u001b[39;00m(\u001b[38;5;124m'\u001b[39m\u001b[38;5;124mThe MeCab dictionary does not exist at \u001b[39m\u001b[38;5;124m\"\u001b[39m\u001b[38;5;132;01m%s\u001b[39;00m\u001b[38;5;124m\"\u001b[39m\u001b[38;5;124m. Is the dictionary correctly installed?\u001b[39m\u001b[38;5;130;01m\\n\u001b[39;00m\u001b[38;5;124mYou can also try entering the dictionary path when initializing the Mecab class: \u001b[39m\u001b[38;5;124m\"\u001b[39m\u001b[38;5;124mMecab(\u001b[39m\u001b[38;5;130;01m\\'\u001b[39;00m\u001b[38;5;124m/some/dic/path\u001b[39m\u001b[38;5;130;01m\\'\u001b[39;00m\u001b[38;5;124m)\u001b[39m\u001b[38;5;124m\"\u001b[39m\u001b[38;5;124m'\u001b[39m \u001b[38;5;241m%\u001b[39m dicpath)\n\u001b[0;32m     81\u001b[0m \u001b[38;5;28;01mexcept\u001b[39;00m \u001b[38;5;167;01mNameError\u001b[39;00m:\n\u001b[1;32m---> 82\u001b[0m     \u001b[38;5;28;01mraise\u001b[39;00m \u001b[38;5;167;01mException\u001b[39;00m(\u001b[38;5;124m'\u001b[39m\u001b[38;5;124mInstall MeCab in order to use it: http://konlpy.org/en/latest/install/\u001b[39m\u001b[38;5;124m'\u001b[39m)\n",
            "\u001b[1;31mException\u001b[0m: Install MeCab in order to use it: http://konlpy.org/en/latest/install/"
          ]
        }
      ],
      "source": [
        "#%cd /content/g2pK\n",
        "import g2pk\n",
        "g2p = g2pk.G2p()"
      ]
    },
    {
      "cell_type": "code",
      "execution_count": null,
      "metadata": {
        "colab": {
          "base_uri": "https://localhost:8080/"
        },
        "id": "GvI801iATPwr",
        "outputId": "02da7bf8-defd-4f78-a416-a802c7171f3d"
      },
      "outputs": [],
      "source": [
        "!pip install pysbd"
      ]
    },
    {
      "cell_type": "code",
      "execution_count": null,
      "metadata": {
        "colab": {
          "base_uri": "https://localhost:8080/"
        },
        "id": "heX9hx2LTXgf",
        "outputId": "799059d3-22c3-4f37-a8cd-ae77f2d37641"
      },
      "outputs": [],
      "source": [
        "!pip install coqpit"
      ]
    },
    {
      "cell_type": "code",
      "execution_count": null,
      "metadata": {
        "colab": {
          "base_uri": "https://localhost:8080/"
        },
        "id": "cEF5OQTPTc_Q",
        "outputId": "fa56f872-318e-453b-a7f7-9d79ec822fff"
      },
      "outputs": [],
      "source": [
        "!pip install unidecode"
      ]
    },
    {
      "cell_type": "code",
      "execution_count": null,
      "metadata": {
        "colab": {
          "base_uri": "https://localhost:8080/"
        },
        "id": "U2eoSPW7Tifo",
        "outputId": "3a33d985-4c0d-43fd-d308-0259cadac202"
      },
      "outputs": [],
      "source": [
        "!pip install pypinyin"
      ]
    },
    {
      "cell_type": "code",
      "execution_count": 2,
      "metadata": {
        "colab": {
          "base_uri": "https://localhost:8080/"
        },
        "id": "Lt9bLLZ8I4GH",
        "outputId": "f9c261eb-ade9-4c74-ba39-0d32bce60bbb"
      },
      "outputs": [
        {
          "ename": "NameError",
          "evalue": "name 'os' is not defined",
          "output_type": "error",
          "traceback": [
            "\u001b[1;31m---------------------------------------------------------------------------\u001b[0m",
            "\u001b[1;31mNameError\u001b[0m                                 Traceback (most recent call last)",
            "Cell \u001b[1;32mIn[2], line 2\u001b[0m\n\u001b[0;32m      1\u001b[0m \u001b[38;5;66;03m#%cd /content/TTS\u001b[39;00m\n\u001b[1;32m----> 2\u001b[0m \u001b[43mos\u001b[49m\u001b[38;5;241m.\u001b[39mchdir(\u001b[38;5;124m'\u001b[39m\u001b[38;5;124m../TTS\u001b[39m\u001b[38;5;124m'\u001b[39m)\n\u001b[0;32m      3\u001b[0m \u001b[38;5;28;01mimport\u001b[39;00m \u001b[38;5;21;01mre\u001b[39;00m\n\u001b[0;32m      4\u001b[0m \u001b[38;5;28;01mimport\u001b[39;00m \u001b[38;5;21;01msys\u001b[39;00m\n",
            "\u001b[1;31mNameError\u001b[0m: name 'os' is not defined"
          ]
        }
      ],
      "source": [
        "#%cd /content/TTS\n",
        "os.chdir('../TTS')\n",
        "import re\n",
        "import sys\n",
        "from unicodedata import normalize\n",
        "import IPython\n",
        "\n",
        "from TTS.utils.synthesizer import Synthesizer\n",
        "\n",
        "def normalize_text(text):\n",
        "    text = text.strip()\n",
        "\n",
        "    for c in \",;:\":\n",
        "        text = text.replace(c, \".\")\n",
        "    text = remove_duplicated_punctuations(text)\n",
        "\n",
        "    text = jamo_text(text)\n",
        "\n",
        "    text = g2p.idioms(text)\n",
        "    text = g2pk.english.convert_eng(text, g2p.cmu)\n",
        "    text = g2pk.utils.annotate(text, g2p.mecab)\n",
        "    text = g2pk.numerals.convert_num(text)\n",
        "    text = re.sub(\"/[PJEB]\", \"\", text)\n",
        "\n",
        "    text = alphabet_text(text)\n",
        "\n",
        "    # remove unreadable characters\n",
        "    text = normalize(\"NFD\", text)\n",
        "    text = \"\".join(c for c in text if c in symbols)\n",
        "    text = normalize(\"NFC\", text)\n",
        "\n",
        "    text = text.strip()\n",
        "    if len(text) == 0:\n",
        "        return \"\"\n",
        "\n",
        "    # only single punctuation\n",
        "    if text in '.!?':\n",
        "        return punctuation_text(text)\n",
        "\n",
        "    # append punctuation if there is no punctuation at the end of the text\n",
        "    if text[-1] not in '.!?':\n",
        "        text += '.'\n",
        "\n",
        "    return text\n",
        "\n",
        "\n",
        "def remove_duplicated_punctuations(text):\n",
        "    text = re.sub(r\"[.?!]+\\?\", \"?\", text)\n",
        "    text = re.sub(r\"[.?!]+!\", \"!\", text)\n",
        "    text = re.sub(r\"[.?!]+\\.\", \".\", text)\n",
        "    return text\n",
        "\n",
        "\n",
        "def split_text(text):\n",
        "    text = remove_duplicated_punctuations(text)\n",
        "\n",
        "    texts = []\n",
        "    for subtext in re.findall(r'[^.!?\\n]*[.!?\\n]', text):\n",
        "        texts.append(subtext.strip())\n",
        "\n",
        "    return texts\n",
        "\n",
        "\n",
        "def alphabet_text(text):\n",
        "    text = re.sub(r\"(a|A)\", \"에이\", text)\n",
        "    text = re.sub(r\"(b|B)\", \"비\", text)\n",
        "    text = re.sub(r\"(c|C)\", \"씨\", text)\n",
        "    text = re.sub(r\"(d|D)\", \"디\", text)\n",
        "    text = re.sub(r\"(e|E)\", \"이\", text)\n",
        "    text = re.sub(r\"(f|F)\", \"에프\", text)\n",
        "    text = re.sub(r\"(g|G)\", \"쥐\", text)\n",
        "    text = re.sub(r\"(h|H)\", \"에이치\", text)\n",
        "    text = re.sub(r\"(i|I)\", \"아이\", text)\n",
        "    text = re.sub(r\"(j|J)\", \"제이\", text)\n",
        "    text = re.sub(r\"(k|K)\", \"케이\", text)\n",
        "    text = re.sub(r\"(l|L)\", \"엘\", text)\n",
        "    text = re.sub(r\"(m|M)\", \"엠\", text)\n",
        "    text = re.sub(r\"(n|N)\", \"엔\", text)\n",
        "    text = re.sub(r\"(o|O)\", \"오\", text)\n",
        "    text = re.sub(r\"(p|P)\", \"피\", text)\n",
        "    text = re.sub(r\"(q|Q)\", \"큐\", text)\n",
        "    text = re.sub(r\"(r|R)\", \"알\", text)\n",
        "    text = re.sub(r\"(s|S)\", \"에스\", text)\n",
        "    text = re.sub(r\"(t|T)\", \"티\", text)\n",
        "    text = re.sub(r\"(u|U)\", \"유\", text)\n",
        "    text = re.sub(r\"(v|V)\", \"브이\", text)\n",
        "    text = re.sub(r\"(w|W)\", \"더블유\", text)\n",
        "    text = re.sub(r\"(x|X)\", \"엑스\", text)\n",
        "    text = re.sub(r\"(y|Y)\", \"와이\", text)\n",
        "    text = re.sub(r\"(z|Z)\", \"지\", text)\n",
        "\n",
        "    return text\n",
        "\n",
        "\n",
        "def punctuation_text(text):\n",
        "    # 문장부호\n",
        "    text = re.sub(r\"!\", \"느낌표\", text)\n",
        "    text = re.sub(r\"\\?\", \"물음표\", text)\n",
        "    text = re.sub(r\"\\.\", \"마침표\", text)\n",
        "\n",
        "    return text\n",
        "\n",
        "\n",
        "def jamo_text(text):\n",
        "    # 기본 자모음\n",
        "    text = re.sub(r\"ㄱ\", \"기역\", text)\n",
        "    text = re.sub(r\"ㄴ\", \"니은\", text)\n",
        "    text = re.sub(r\"ㄷ\", \"디귿\", text)\n",
        "    text = re.sub(r\"ㄹ\", \"리을\", text)\n",
        "    text = re.sub(r\"ㅁ\", \"미음\", text)\n",
        "    text = re.sub(r\"ㅂ\", \"비읍\", text)\n",
        "    text = re.sub(r\"ㅅ\", \"시옷\", text)\n",
        "    text = re.sub(r\"ㅇ\", \"이응\", text)\n",
        "    text = re.sub(r\"ㅈ\", \"지읒\", text)\n",
        "    text = re.sub(r\"ㅊ\", \"치읓\", text)\n",
        "    text = re.sub(r\"ㅋ\", \"키읔\", text)\n",
        "    text = re.sub(r\"ㅌ\", \"티읕\", text)\n",
        "    text = re.sub(r\"ㅍ\", \"피읖\", text)\n",
        "    text = re.sub(r\"ㅎ\", \"히읗\", text)\n",
        "    text = re.sub(r\"ㄲ\", \"쌍기역\", text)\n",
        "    text = re.sub(r\"ㄸ\", \"쌍디귿\", text)\n",
        "    text = re.sub(r\"ㅃ\", \"쌍비읍\", text)\n",
        "    text = re.sub(r\"ㅆ\", \"쌍시옷\", text)\n",
        "    text = re.sub(r\"ㅉ\", \"쌍지읒\", text)\n",
        "    text = re.sub(r\"ㄳ\", \"기역시옷\", text)\n",
        "    text = re.sub(r\"ㄵ\", \"니은지읒\", text)\n",
        "    text = re.sub(r\"ㄶ\", \"니은히읗\", text)\n",
        "    text = re.sub(r\"ㄺ\", \"리을기역\", text)\n",
        "    text = re.sub(r\"ㄻ\", \"리을미음\", text)\n",
        "    text = re.sub(r\"ㄼ\", \"리을비읍\", text)\n",
        "    text = re.sub(r\"ㄽ\", \"리을시옷\", text)\n",
        "    text = re.sub(r\"ㄾ\", \"리을티읕\", text)\n",
        "    text = re.sub(r\"ㄿ\", \"리을피읍\", text)\n",
        "    text = re.sub(r\"ㅀ\", \"리을히읗\", text)\n",
        "    text = re.sub(r\"ㅄ\", \"비읍시옷\", text)\n",
        "    text = re.sub(r\"ㅏ\", \"아\", text)\n",
        "    text = re.sub(r\"ㅑ\", \"야\", text)\n",
        "    text = re.sub(r\"ㅓ\", \"어\", text)\n",
        "    text = re.sub(r\"ㅕ\", \"여\", text)\n",
        "    text = re.sub(r\"ㅗ\", \"오\", text)\n",
        "    text = re.sub(r\"ㅛ\", \"요\", text)\n",
        "    text = re.sub(r\"ㅜ\", \"우\", text)\n",
        "    text = re.sub(r\"ㅠ\", \"유\", text)\n",
        "    text = re.sub(r\"ㅡ\", \"으\", text)\n",
        "    text = re.sub(r\"ㅣ\", \"이\", text)\n",
        "    text = re.sub(r\"ㅐ\", \"애\", text)\n",
        "    text = re.sub(r\"ㅒ\", \"얘\", text)\n",
        "    text = re.sub(r\"ㅔ\", \"에\", text)\n",
        "    text = re.sub(r\"ㅖ\", \"예\", text)\n",
        "    text = re.sub(r\"ㅘ\", \"와\", text)\n",
        "    text = re.sub(r\"ㅙ\", \"왜\", text)\n",
        "    text = re.sub(r\"ㅚ\", \"외\", text)\n",
        "    text = re.sub(r\"ㅝ\", \"워\", text)\n",
        "    text = re.sub(r\"ㅞ\", \"웨\", text)\n",
        "    text = re.sub(r\"ㅟ\", \"위\", text)\n",
        "    text = re.sub(r\"ㅢ\", \"의\", text)\n",
        "\n",
        "    return text\n",
        "\n",
        "\n",
        "def normalize_multiline_text(long_text):\n",
        "    texts = split_text(long_text)\n",
        "    normalized_texts = [normalize_text(text).strip() for text in texts]\n",
        "    return [text for text in normalized_texts if len(text) > 0]\n",
        "\n",
        "def synthesize(text):\n",
        "    wavs = synthesizer.tts(text, None, None)\n",
        "    return wavs"
      ]
    },
    {
      "attachments": {},
      "cell_type": "markdown",
      "metadata": {
        "id": "SbPRQfl8z28u"
      },
      "source": [
        "## 3. 학습한 모델 불러오기\n",
        "\n",
        "학습한 Glow-TTS와 HiFi-GAN 모델을 불러옵니다.\n",
        "\n",
        "만약 다른 체크포인트에서 불러오시려면 아래 코드에서 경로를 아래와 같이 적절하게 수정합니다.\n",
        "\n",
        "```python\n",
        "synthesizer = Synthesizer(\n",
        "    \"../drive/My Drive/Colab Notebooks/data/glowtts-v2/glowtts-v2-June-23-2023_06+15PM-3aa165ae/checkpoint_68000.pth.tar\",\n",
        "    \"../drive/My Drive/Colab Notebooks/data/glowtts-v2/glowtts-v2-June-23-2023_06+15PM-3aa165ae/config.json\",\n",
        "    None,\n",
        "    \"../drive/My Drive/Colab Notebooks/data/hifigan-v2/hifigan-v2-June-24-2023_12+59PM-3aa165ae/checkpoint_380000.pth.tar\",\n",
        "    \"../drive/My Drive/Colab Notebooks/data/hifigan-v2/hifigan-v2-June-24-2023_12+59PM-3aa165ae/config.json\",\n",
        "    None,\n",
        "    None,\n",
        "    False,\n",
        ")\n",
        "```"
      ]
    },
    {
      "cell_type": "code",
      "execution_count": 1,
      "metadata": {
        "colab": {
          "base_uri": "https://localhost:8080/"
        },
        "id": "zwROk8zUHgUn",
        "outputId": "e2669971-0ffe-424d-a9d2-2df67c93ffba"
      },
      "outputs": [
        {
          "ename": "NameError",
          "evalue": "name 'Synthesizer' is not defined",
          "output_type": "error",
          "traceback": [
            "\u001b[1;31m---------------------------------------------------------------------------\u001b[0m",
            "\u001b[1;31mNameError\u001b[0m                                 Traceback (most recent call last)",
            "Cell \u001b[1;32mIn[1], line 1\u001b[0m\n\u001b[1;32m----> 1\u001b[0m synthesizer \u001b[38;5;241m=\u001b[39m \u001b[43mSynthesizer\u001b[49m(\n\u001b[0;32m      2\u001b[0m     \u001b[38;5;124m\"\u001b[39m\u001b[38;5;124m../drive/My Drive/Colab Notebooks/data/glowtts-v2/glowtts-v2-June-25-2023_02+36PM-3aa165ae/checkpoint_113000.pth.tar\u001b[39m\u001b[38;5;124m\"\u001b[39m,\n\u001b[0;32m      3\u001b[0m     \u001b[38;5;124m\"\u001b[39m\u001b[38;5;124m../drive/My Drive/Colab Notebooks/data/glowtts-v2/glowtts-v2-June-25-2023_02+36PM-3aa165ae/config.json\u001b[39m\u001b[38;5;124m\"\u001b[39m,\n\u001b[0;32m      4\u001b[0m     \u001b[38;5;28;01mNone\u001b[39;00m,\n\u001b[0;32m      5\u001b[0m     \u001b[38;5;124m\"\u001b[39m\u001b[38;5;124m../drive/My Drive/Colab Notebooks/data/hifigan-v2/hifigan-v2-June-26-2023_07+23AM-3aa165ae/checkpoint_465000.pth.tar\u001b[39m\u001b[38;5;124m\"\u001b[39m,\n\u001b[0;32m      6\u001b[0m     \u001b[38;5;124m\"\u001b[39m\u001b[38;5;124m../drive/My Drive/Colab Notebooks/data/hifigan-v2/hifigan-v2-June-26-2023_07+23AM-3aa165ae/config.json\u001b[39m\u001b[38;5;124m\"\u001b[39m,\n\u001b[0;32m      7\u001b[0m     \u001b[38;5;28;01mNone\u001b[39;00m,\n\u001b[0;32m      8\u001b[0m     \u001b[38;5;28;01mNone\u001b[39;00m,\n\u001b[0;32m      9\u001b[0m     \u001b[38;5;28;01mFalse\u001b[39;00m,\n\u001b[0;32m     10\u001b[0m )\n\u001b[0;32m     11\u001b[0m symbols \u001b[38;5;241m=\u001b[39m synthesizer\u001b[38;5;241m.\u001b[39mtts_config\u001b[38;5;241m.\u001b[39mcharacters\u001b[38;5;241m.\u001b[39mcharacters\n",
            "\u001b[1;31mNameError\u001b[0m: name 'Synthesizer' is not defined"
          ]
        }
      ],
      "source": [
        "synthesizer = Synthesizer(\n",
        "    \"../drive/My Drive/Colab Notebooks/data/glowtts-v2/glowtts-v2-June-25-2023_02+36PM-3aa165ae/checkpoint_113000.pth.tar\",\n",
        "    \"../drive/My Drive/Colab Notebooks/data/glowtts-v2/glowtts-v2-June-25-2023_02+36PM-3aa165ae/config.json\",\n",
        "    None,\n",
        "    \"../drive/My Drive/Colab Notebooks/data/hifigan-v2/hifigan-v2-June-26-2023_07+23AM-3aa165ae/checkpoint_465000.pth.tar\",\n",
        "    \"../drive/My Drive/Colab Notebooks/data/hifigan-v2/hifigan-v2-June-26-2023_07+23AM-3aa165ae/config.json\",\n",
        "    None,\n",
        "    None,\n",
        "    False,\n",
        ")\n",
        "symbols = synthesizer.tts_config.characters.characters\n",
        "\n",
        "# /content/drive/MyDrive/Colab Notebooks (1)"
      ]
    },
    {
      "attachments": {},
      "cell_type": "markdown",
      "metadata": {
        "id": "tmjT_BrV0XYD"
      },
      "source": [
        "## 4. 음성 합성\n",
        "\n",
        "실제 음성 합성을 수행합니다.\n",
        "\n",
        "`long_text`의 값을 변경하여 다른 문장의 합성도 시도해보실 수 있습니다.\n",
        "\n",
        "참고문헌\n",
        "\n",
        "https://ai-creator.tistory.com/59\n",
        "\n",
        "https://stackoverflow.com/questions/55701631/how-can-we-use-microphone-in-google-colab"
      ]
    },
    {
      "attachments": {},
      "cell_type": "markdown",
      "metadata": {
        "id": "x5Ytw3qwQDvk"
      },
      "source": [
        "## 4.1 stt 실행"
      ]
    },
    {
      "cell_type": "code",
      "execution_count": null,
      "metadata": {},
      "outputs": [],
      "source": [
        "!apt install libasound2-dev portaudio19-dev libportaudio2 libportaudiocpp0 ffmpeg -y"
      ]
    },
    {
      "cell_type": "code",
      "execution_count": null,
      "metadata": {},
      "outputs": [],
      "source": [
        "!pip install PyAudio"
      ]
    },
    {
      "cell_type": "code",
      "execution_count": null,
      "metadata": {
        "colab": {
          "base_uri": "https://localhost:8080/"
        },
        "id": "TOfrSZuAUQBa",
        "outputId": "7030d83a-9eb0-4830-839c-cce4fd529417"
      },
      "outputs": [],
      "source": [
        "!pip install SpeechRecognition\n",
        "!pip install ffmpeg-python"
      ]
    },
    {
      "cell_type": "code",
      "execution_count": null,
      "metadata": {
        "id": "OhlM3hXlUtRi"
      },
      "outputs": [],
      "source": [
        "from IPython.display import HTML, Audio\n",
        "#from google.colab.output import eval_js\n",
        "from base64 import b64decode\n",
        "import numpy as np\n",
        "from scipy.io.wavfile import read as wav_read\n",
        "import io\n",
        "import ffmpeg\n",
        "\n",
        "AUDIO_HTML = \"\"\"\n",
        "<script>\n",
        "var my_div = document.createElement(\"DIV\");\n",
        "var my_p = document.createElement(\"P\");\n",
        "var my_btn = document.createElement(\"BUTTON\");\n",
        "var t = document.createTextNode(\"Press to start recording\");\n",
        "\n",
        "my_btn.appendChild(t);\n",
        "//my_p.appendChild(my_btn);\n",
        "my_div.appendChild(my_btn);\n",
        "document.body.appendChild(my_div);\n",
        "\n",
        "var base64data = 0;\n",
        "var reader;\n",
        "var recorder, gumStream;\n",
        "var recordButton = my_btn;\n",
        "\n",
        "var handleSuccess = function(stream) {\n",
        "  gumStream = stream;\n",
        "  var options = {\n",
        "    //bitsPerSecond: 8000, //chrome seems to ignore, always 48k\n",
        "    mimeType : 'audio/webm;codecs=opus'\n",
        "    //mimeType : 'audio/webm;codecs=pcm'\n",
        "  };\n",
        "  //recorder = new MediaRecorder(stream, options);\n",
        "  recorder = new MediaRecorder(stream);\n",
        "  recorder.ondataavailable = function(e) {\n",
        "    var url = URL.createObjectURL(e.data);\n",
        "    var preview = document.createElement('audio');\n",
        "    preview.controls = true;\n",
        "    preview.src = url;\n",
        "    document.body.appendChild(preview);\n",
        "\n",
        "    reader = new FileReader();\n",
        "    reader.readAsDataURL(e.data);\n",
        "    reader.onloadend = function() {\n",
        "      base64data = reader.result;\n",
        "      //console.log(\"Inside FileReader:\" + base64data);\n",
        "    }\n",
        "  };\n",
        "  recorder.start();\n",
        "  };\n",
        "\n",
        "recordButton.innerText = \"Recording... press to stop\";\n",
        "\n",
        "navigator.mediaDevices.getUserMedia({audio: true}).then(handleSuccess);\n",
        "\n",
        "\n",
        "function toggleRecording() {\n",
        "  if (recorder && recorder.state == \"recording\") {\n",
        "      recorder.stop();\n",
        "      gumStream.getAudioTracks()[0].stop();\n",
        "      recordButton.innerText = \"Saving the recording... pls wait!\"\n",
        "  }\n",
        "}\n",
        "\n",
        "// https://stackoverflow.com/a/951057\n",
        "function sleep(ms) {\n",
        "  return new Promise(resolve => setTimeout(resolve, ms));\n",
        "}\n",
        "\n",
        "var data = new Promise(resolve=>{\n",
        "//recordButton.addEventListener(\"click\", toggleRecording);\n",
        "recordButton.onclick = ()=>{\n",
        "toggleRecording()\n",
        "\n",
        "sleep(2000).then(() => {\n",
        "  // wait 2000ms for the data to be available...\n",
        "  // ideally this should use something like await...\n",
        "  //console.log(\"Inside data:\" + base64data)\n",
        "  resolve(base64data.toString())\n",
        "\n",
        "});\n",
        "\n",
        "}\n",
        "});\n",
        "\n",
        "</script>\n",
        "\"\"\"\n",
        "\n",
        "def get_audio():\n",
        "  display(HTML(AUDIO_HTML))\n",
        "  data = eval_js(\"data\")\n",
        "  binary = b64decode(data.split(',')[1])\n",
        "\n",
        "  process = (ffmpeg\n",
        "    .input('pipe:0')\n",
        "    .output('pipe:1', format='wav')\n",
        "    .run_async(pipe_stdin=True, pipe_stdout=True, pipe_stderr=True, quiet=True, overwrite_output=True)\n",
        "  )\n",
        "  output, err = process.communicate(input=binary)\n",
        "\n",
        "  riff_chunk_size = len(output) - 8\n",
        "  # Break up the chunk size into four bytes, held in b.\n",
        "  q = riff_chunk_size\n",
        "  b = []\n",
        "  for i in range(4):\n",
        "      q, r = divmod(q, 256)\n",
        "      b.append(r)\n",
        "\n",
        "  # Replace bytes 4:8 in proc.stdout with the actual size of the RIFF chunk.\n",
        "  riff = output[:4] + bytes(b) + output[8:]\n",
        "\n",
        "  sr, audio = wav_read(io.BytesIO(riff))\n",
        "\n",
        "  return audio, sr"
      ]
    },
    {
      "cell_type": "code",
      "execution_count": null,
      "metadata": {
        "colab": {
          "base_uri": "https://localhost:8080/",
          "height": 97
        },
        "id": "rNzPXHlEUvxZ",
        "outputId": "3873a907-e102-470d-c70b-41e3a2d09d3c"
      },
      "outputs": [],
      "source": [
        "audio, sr = get_audio()\n",
        "out_f = 'output.wav'\n",
        "wavf.write(out_f, sr, audio)\n",
        "\n"
      ]
    },
    {
      "cell_type": "code",
      "execution_count": null,
      "metadata": {
        "colab": {
          "base_uri": "https://localhost:8080/"
        },
        "id": "s-1KPShO3-Rx",
        "outputId": "e244ae95-d3a1-401f-9fe0-a620ba2c6315"
      },
      "outputs": [],
      "source": [
        "import speech_recognition as sr\n",
        "\n",
        "\n",
        "# audio file을 audio source로 사용합니다\n",
        "r = sr.Recognizer()\n",
        "with sr.AudioFile(out_f) as source:\n",
        "    audio = r.record(source)  # 전체 audio file 읽기\n",
        "\n",
        "# 구글 웹 음성 API로 인식하기 (하루에 제한 50회)\n",
        "try:\n",
        "    print(\"Google Speech Recognition thinks you said : \" + r.recognize_google(audio, language='ko'))\n",
        "except sr.UnknownValueError:\n",
        "    print(\"Google Speech Recognition could not understand audio\")\n",
        "except sr.RequestError as e:\n",
        "    print(\"Could not request results from Google Speech Recognition service; {0}\".format(e))"
      ]
    },
    {
      "attachments": {},
      "cell_type": "markdown",
      "metadata": {
        "id": "e498To3-PJ1v"
      },
      "source": [
        "chatbot 구현"
      ]
    },
    {
      "cell_type": "code",
      "execution_count": null,
      "metadata": {
        "colab": {
          "base_uri": "https://localhost:8080/"
        },
        "id": "CIOj93dnPIyD",
        "outputId": "db24f08e-0f3a-4127-f878-c164a393ef37"
      },
      "outputs": [],
      "source": [
        "input_text = r.recognize_google(audio, language='ko')\n",
        "print(input_text)\n",
        "\n",
        "'''\n",
        "챗봇에 input_text를 입력하면 침착맨이 text형태로 output_text 출력 -> infer texts로 입력하여 침착맨 목소리로 답변\n",
        "\n",
        "\n",
        "'''\n"
      ]
    },
    {
      "attachments": {},
      "cell_type": "markdown",
      "metadata": {
        "id": "1kWNLO1sPEVV"
      },
      "source": [
        "#### infer test"
      ]
    },
    {
      "cell_type": "code",
      "execution_count": null,
      "metadata": {
        "id": "XSnF1D48F1tx"
      },
      "outputs": [],
      "source": [
        "texts = \"\"\"\n",
        "반갑습니다\n",
        "\"\"\"\n",
        "for text in normalize_multiline_text(texts):\n",
        "    wav = synthesizer.tts(text, None, None)\n",
        "    IPython.display.display(IPython.display.Audio(wav, rate=22050))"
      ]
    }
  ],
  "metadata": {
    "colab": {
      "collapsed_sections": [
        "8erClGSnzwge"
      ],
      "provenance": []
    },
    "kernelspec": {
      "display_name": "Python 3",
      "name": "python3"
    },
    "language_info": {
      "codemirror_mode": {
        "name": "ipython",
        "version": 3
      },
      "file_extension": ".py",
      "mimetype": "text/x-python",
      "name": "python",
      "nbconvert_exporter": "python",
      "pygments_lexer": "ipython3",
      "version": "undefined.undefined.undefined"
    }
  },
  "nbformat": 4,
  "nbformat_minor": 0
}
